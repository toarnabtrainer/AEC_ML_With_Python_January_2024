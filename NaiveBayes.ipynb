{
 "cells": [
  {
   "cell_type": "markdown",
   "metadata": {},
   "source": [
    "## **Naive Bayes Classifier From Scratch**"
   ]
  },
  {
   "cell_type": "markdown",
   "metadata": {},
   "source": [
    "> **Implementing Naive Bayes Classifier. Naive Bayes is simple classifier known for doing well when a large number of observations are available. Here we shall create a Gaussian Naive Bayes classifier from the scratch and use it to predict the class of a previously unseen data point.**"
   ]
  },
  {
   "cell_type": "markdown",
   "metadata": {},
   "source": [
    "### Why Naive Bayes Classifier?\n",
    "> **Naive Bayes Classifier is a probabilistic algorithm used for classification tasks in machine learning. It is based on Bayes' theorem and assumes that the presence of a feature in a class is independent of the presence of any other feature.**\n",
    "\n",
    "> **In simple terms, the Naive Bayes Classifier assumes that the probability of a particular class given some input features is proportional to the product of the probabilities of each feature given that class. This means that the algorithm calculates the conditional probabilities of each class given the input features, and selects the class with the highest probability as the predicted class.**\n",
    "\n",
    "> **The Naive Bayes Classifier is often used in natural language processing (NLP) applications such as text classification and sentiment analysis. It is also commonly used in spam filtering, where the algorithm can be trained on a set of labeled emails to predict whether a new email is spam or not.**\n",
    "\n",
    "> **One of the main advantages of the Naive Bayes Classifier is its simplicity and speed, making it suitable for large datasets and real-time applications. However, it assumes that the features are independent, which may not always be true in real-world applications, and can lead to inaccurate predictions.**"
   ]
  },
  {
   "cell_type": "markdown",
   "metadata": {},
   "source": [
    "### What is Gaussian Naive Bayes Classifier?\n",
    "> **Gaussian Naive Bayes Classifier is a variant of the Naive Bayes algorithm that assumes the input features follow a Gaussian (normal) distribution. In other words, it assumes that the input features are continuous variables, and the probability of each feature value is normally distributed.**\n",
    "\n",
    "> **The Gaussian Naive Bayes Classifier is based on Bayes' theorem and uses the same principles as the standard Naive Bayes Classifier, but instead of calculating the probability of each feature given the class using a categorical distribution, it uses a Gaussian distribution to model the continuous values.**\n",
    "\n",
    "> **To classify a new instance, the Gaussian Naive Bayes Classifier calculates the probability of each class given the input features, using the Gaussian probability density function to estimate the likelihood of each feature value given the class. It then selects the class with the highest probability as the predicted class.**\n",
    "\n",
    "> **The advantages of the Gaussian Naive Bayes Classifier include its simplicity, speed, and ability to handle large datasets with high dimensional input features. However, it assumes that the input features are independent and have a Gaussian distribution, which may not always be true in real-world applications. Additionally, it may suffer from the problem of overfitting when the training data is limited or imbalanced.**"
   ]
  },
  {
   "cell_type": "markdown",
   "metadata": {},
   "source": [
    "### Preliminaries"
   ]
  },
  {
   "cell_type": "code",
   "execution_count": 14,
   "metadata": {},
   "outputs": [],
   "source": [
    "# importing required modules\n",
    "import pandas as pd\n",
    "import numpy as np"
   ]
  },
  {
   "cell_type": "markdown",
   "metadata": {},
   "source": [
    "### Create Data"
   ]
  },
  {
   "cell_type": "markdown",
   "metadata": {},
   "source": [
    "> **Creating our dataset and our dataset is containing data for eight individuals. We will use the dataset to construct a classifier that takes in the height, weight and foot size of an individual and outputs a prediction for their gender.**"
   ]
  },
  {
   "cell_type": "code",
   "execution_count": 15,
   "metadata": {},
   "outputs": [
    {
     "name": "stdout",
     "output_type": "stream",
     "text": [
      "(8, 4)\n"
     ]
    },
    {
     "data": {
      "text/html": [
       "<div>\n",
       "<style scoped>\n",
       "    .dataframe tbody tr th:only-of-type {\n",
       "        vertical-align: middle;\n",
       "    }\n",
       "\n",
       "    .dataframe tbody tr th {\n",
       "        vertical-align: top;\n",
       "    }\n",
       "\n",
       "    .dataframe thead th {\n",
       "        text-align: right;\n",
       "    }\n",
       "</style>\n",
       "<table border=\"1\" class=\"dataframe\">\n",
       "  <thead>\n",
       "    <tr style=\"text-align: right;\">\n",
       "      <th></th>\n",
       "      <th>gender</th>\n",
       "      <th>height</th>\n",
       "      <th>weight</th>\n",
       "      <th>foot_size</th>\n",
       "    </tr>\n",
       "  </thead>\n",
       "  <tbody>\n",
       "    <tr>\n",
       "      <th>0</th>\n",
       "      <td>male</td>\n",
       "      <td>5.93</td>\n",
       "      <td>191</td>\n",
       "      <td>12</td>\n",
       "    </tr>\n",
       "    <tr>\n",
       "      <th>1</th>\n",
       "      <td>female</td>\n",
       "      <td>5.43</td>\n",
       "      <td>131</td>\n",
       "      <td>6</td>\n",
       "    </tr>\n",
       "    <tr>\n",
       "      <th>2</th>\n",
       "      <td>male</td>\n",
       "      <td>5.57</td>\n",
       "      <td>171</td>\n",
       "      <td>13</td>\n",
       "    </tr>\n",
       "    <tr>\n",
       "      <th>3</th>\n",
       "      <td>female</td>\n",
       "      <td>5.74</td>\n",
       "      <td>149</td>\n",
       "      <td>8</td>\n",
       "    </tr>\n",
       "    <tr>\n",
       "      <th>4</th>\n",
       "      <td>female</td>\n",
       "      <td>5.40</td>\n",
       "      <td>151</td>\n",
       "      <td>9</td>\n",
       "    </tr>\n",
       "    <tr>\n",
       "      <th>5</th>\n",
       "      <td>male</td>\n",
       "      <td>6.10</td>\n",
       "      <td>181</td>\n",
       "      <td>13</td>\n",
       "    </tr>\n",
       "    <tr>\n",
       "      <th>6</th>\n",
       "      <td>female</td>\n",
       "      <td>5.10</td>\n",
       "      <td>99</td>\n",
       "      <td>5</td>\n",
       "    </tr>\n",
       "    <tr>\n",
       "      <th>7</th>\n",
       "      <td>male</td>\n",
       "      <td>5.91</td>\n",
       "      <td>166</td>\n",
       "      <td>11</td>\n",
       "    </tr>\n",
       "  </tbody>\n",
       "</table>\n",
       "</div>"
      ],
      "text/plain": [
       "   gender  height  weight  foot_size\n",
       "0    male    5.93     191         12\n",
       "1  female    5.43     131          6\n",
       "2    male    5.57     171         13\n",
       "3  female    5.74     149          8\n",
       "4  female    5.40     151          9\n",
       "5    male    6.10     181         13\n",
       "6  female    5.10      99          5\n",
       "7    male    5.91     166         11"
      ]
     },
     "execution_count": 15,
     "metadata": {},
     "output_type": "execute_result"
    }
   ],
   "source": [
    "# creating an empty data frame\n",
    "data = pd.DataFrame()\n",
    "\n",
    "# creating our target variables\n",
    "data[\"gender\"] = [\"male\",\"female\",\"male\",\"female\",\"female\",\"male\",\"female\",\"male\"]\n",
    "\n",
    "# creating our feature variables\n",
    "data[\"height\"] = [5.93, 5.43, 5.57, 5.74, 5.4, 6.1, 5.1, 5.91]\n",
    "data[\"weight\"] = [191, 131, 171, 149, 151, 181, 99, 166]\n",
    "data[\"foot_size\"] = [12, 6, 13, 8, 9, 13, 5, 11]\n",
    "\n",
    "# view data\n",
    "print (data.shape)\n",
    "data"
   ]
  },
  {
   "cell_type": "code",
   "execution_count": 16,
   "metadata": {},
   "outputs": [
    {
     "name": "stdout",
     "output_type": "stream",
     "text": [
      "(1, 3)\n"
     ]
    },
    {
     "data": {
      "text/html": [
       "<div>\n",
       "<style scoped>\n",
       "    .dataframe tbody tr th:only-of-type {\n",
       "        vertical-align: middle;\n",
       "    }\n",
       "\n",
       "    .dataframe tbody tr th {\n",
       "        vertical-align: top;\n",
       "    }\n",
       "\n",
       "    .dataframe thead th {\n",
       "        text-align: right;\n",
       "    }\n",
       "</style>\n",
       "<table border=\"1\" class=\"dataframe\">\n",
       "  <thead>\n",
       "    <tr style=\"text-align: right;\">\n",
       "      <th></th>\n",
       "      <th>height</th>\n",
       "      <th>weight</th>\n",
       "      <th>foot_size</th>\n",
       "    </tr>\n",
       "  </thead>\n",
       "  <tbody>\n",
       "    <tr>\n",
       "      <th>0</th>\n",
       "      <td>7</td>\n",
       "      <td>131</td>\n",
       "      <td>7</td>\n",
       "    </tr>\n",
       "  </tbody>\n",
       "</table>\n",
       "</div>"
      ],
      "text/plain": [
       "   height  weight  foot_size\n",
       "0       7     131          7"
      ]
     },
     "execution_count": 16,
     "metadata": {},
     "output_type": "execute_result"
    }
   ],
   "source": [
    "# the above dataset is used to construct our classifier.\n",
    "# creating an empty data frame\n",
    "person = pd.DataFrame()\n",
    "\n",
    "# now we shall create a new person for whom we know \n",
    "# their feature values but not the gender.\n",
    "# our goal is to predict the gender\n",
    "# creating the feature values for this single row\n",
    "person[\"height\"] = [7]\n",
    "person[\"weight\"] = [131]\n",
    "person[\"foot_size\"] = [7]\n",
    "\n",
    "# view the data\n",
    "print (person.shape)\n",
    "person"
   ]
  },
  {
   "attachments": {
    "NaiveBayesImage1.1.png": {
     "image/png": "[encoded data removed]"
    }
   },
   "cell_type": "markdown",
   "metadata": {},
   "source": [
    "### Bayes Theorem\n",
    "> **Bayes theorem is a famous equation that allows us to make predictions based on data. Here is the classic version of the Bayes theorem:**<br>\n",
    "![NaiveBayesImage1.1.png](attachment:NaiveBayesImage1.1.png)"
   ]
  },
  {
   "attachments": {
    "NaiveBayesImage1.2.png": {
     "image/png": "[encoded data removed]"
    }
   },
   "cell_type": "markdown",
   "metadata": {},
   "source": [
    "> **This might be too abstract, so let us replace some of the variables to make it more concrete. In a Bayes Classifier, we are interested in finding out the class (e.g. male or female, spam or ham) of an observation given the data:**<br>\n",
    "![NaiveBayesImage1.2.png](attachment:NaiveBayesImage1.2.png)\n",
    "<br>**where:**\n",
    "> * **class** is a particular class (e.g. male)\n",
    "> * **data** is an observation’s data\n",
    "> * **P(class | data)** is called the **_posterior_**\n",
    "> * **P(data | class)** is called the **_likelihood_**\n",
    "> * **P(class)** is called the **_prior_**\n",
    "> * **P(data)** is called the **_marginal probability_**"
   ]
  },
  {
   "attachments": {
    "NaiveBayesImage2.png": {
     "image/png": "[encoded data removed]"
    }
   },
   "cell_type": "markdown",
   "metadata": {},
   "source": [
    "> **In a Bayes Classifier, we calculate the posterior (technically we only calculate the numerator of the posterior, but ignore that for now) for every class for each observation. Then, classify the observation based on the class with the largest posterior value. In our example, we have one observation to predict and two possible classes (e.g. male and female), therefore we will calculate two posteriors: one for male and one for female.**\n",
    "![NaiveBayesImage2.png](attachment:NaiveBayesImage2.png)"
   ]
  },
  {
   "attachments": {
    "NaiveBayesImage3.png": {
     "image/png": "[encoded data removed]"
    }
   },
   "cell_type": "markdown",
   "metadata": {},
   "source": [
    "### Gaussian Naive Bayes Classifier\n",
    "> **A Gaussian Naive Bayes is probably the most popular type of Bayes Classifier. To explain what the name means, let us look at what the Bayes equations looks like when we apply our two classes (male and female) and three feature variables (height, weight, and foot_size):**\n",
    "![NaiveBayesImage3.png](attachment:NaiveBayesImage3.png)"
   ]
  },
  {
   "attachments": {
    "NaiveBayesImage4.png": {
     "image/png": "[encoded data removed]"
    }
   },
   "cell_type": "markdown",
   "metadata": {},
   "source": [
    "> **Now let us unpack the top equation a bit:**\n",
    "> * **P(male)** is the prior probabilities. It is, as we can see, simply the probability an observation is male. This is just the number of males in the dataset divided by the total number of people in the dataset.\n",
    "> * **P(height | female)P(weight | female)P(foot_size | female)** is the likelihood. Notice that we have unpacked so it is now every feature in the dataset. The “gaussian” and “naive” come from two assumptions present in this likelihood:\n",
    "> * **1.** If you look each term in the likelihood you will notice that we assume each feature is uncorrelated from each other. That is, foot size is independent of weight or height etc. This is obviously not true, and is a “naive” assumption - hence the name “Naive Bayes.”\n",
    "> * **2.** Second, we have assumed that the value of the features (e.g. the height of women, the weight of women) are normally (gaussian) distributed. This means that P(height | female) is calculated by inputing the required parameters into the probability density function of the normal distribution:\n",
    "![NaiveBayesImage4.png](attachment:NaiveBayesImage4.png)\n",
    "> * Marginal probability is probably one of the most confusing parts of Bayesian approaches. In our example, it is completely possible to calculate the marginal probability. However, in many real-world cases, it is either extremely difficult or impossible to find the value of the marginal probability. Here in this example, we shall only calculate which class has a the highest posterior value. And because the marginal probability is the same for all classes. So,\n",
    "> * **1.** We can ignore the denominator, \n",
    "> * **2.** Calculate only the posterior’s numerator for each class, and\n",
    "> * **3.** Pick the largest numerator.<br>\n",
    "That is, we can ignore the posterior’s denominator and make a prediction solely on the relative values of the posterior’s numerator."
   ]
  },
  {
   "cell_type": "markdown",
   "metadata": {},
   "source": [
    "### Calculating Prior Values"
   ]
  },
  {
   "cell_type": "code",
   "execution_count": 17,
   "metadata": {},
   "outputs": [
    {
     "name": "stdout",
     "output_type": "stream",
     "text": [
      "Count of male = 4, female = 4 and all persons = 8\n"
     ]
    }
   ],
   "source": [
    "# we shall calculate the prior for both male and female genders\n",
    "# prior can be either constants or probability distributions. \n",
    "# In our example is the simply the probability of being the gender\n",
    "\n",
    "# Number of males\n",
    "n_male = data[\"gender\"][data[\"gender\"] == \"male\"].count()\n",
    "\n",
    "# Number of females\n",
    "n_female = data[\"gender\"][data[\"gender\"] == \"female\"].count()\n",
    "\n",
    "# total rows\n",
    "total_people = data[\"gender\"].count()\n",
    "print (f\"Count of male = {n_male}, female = {n_female} and all persons = {total_people}\")"
   ]
  },
  {
   "cell_type": "code",
   "execution_count": 18,
   "metadata": {},
   "outputs": [
    {
     "name": "stdout",
     "output_type": "stream",
     "text": [
      "Prior for male = 0.5 and female = 0.5\n"
     ]
    }
   ],
   "source": [
    "# number of males divided by the total number of candidates\n",
    "p_male = n_male/total_people   # prior for male\n",
    "\n",
    "# number of females divided by the total number of candidates\n",
    "p_female = n_female/total_people   # prior for female\n",
    "\n",
    "print(f\"Prior for male = {p_male} and female = {p_female}\")"
   ]
  },
  {
   "attachments": {
    "NaiveBayesImage4-2.png": {
     "image/png": "[encoded data removed]"
    }
   },
   "cell_type": "markdown",
   "metadata": {},
   "source": [
    "> **Remember that each term (e.g. P(height | female)) in our likelihood is assumed to be a Normal Probability Distribution Function (PDF). For example:**\n",
    "![NaiveBayesImage4-2.png](attachment:NaiveBayesImage4-2.png)\n",
    "> **This means that for each class (e.g. female) and feature (e.g. height) combination we need to calculate the variance and mean value from the data. Pandas makes this easy:**"
   ]
  },
  {
   "cell_type": "code",
   "execution_count": 19,
   "metadata": {},
   "outputs": [
    {
     "data": {
      "text/html": [
       "<div>\n",
       "<style scoped>\n",
       "    .dataframe tbody tr th:only-of-type {\n",
       "        vertical-align: middle;\n",
       "    }\n",
       "\n",
       "    .dataframe tbody tr th {\n",
       "        vertical-align: top;\n",
       "    }\n",
       "\n",
       "    .dataframe thead th {\n",
       "        text-align: right;\n",
       "    }\n",
       "</style>\n",
       "<table border=\"1\" class=\"dataframe\">\n",
       "  <thead>\n",
       "    <tr style=\"text-align: right;\">\n",
       "      <th></th>\n",
       "      <th>height</th>\n",
       "      <th>weight</th>\n",
       "      <th>foot_size</th>\n",
       "    </tr>\n",
       "    <tr>\n",
       "      <th>gender</th>\n",
       "      <th></th>\n",
       "      <th></th>\n",
       "      <th></th>\n",
       "    </tr>\n",
       "  </thead>\n",
       "  <tbody>\n",
       "    <tr>\n",
       "      <th>female</th>\n",
       "      <td>5.4175</td>\n",
       "      <td>132.50</td>\n",
       "      <td>7.00</td>\n",
       "    </tr>\n",
       "    <tr>\n",
       "      <th>male</th>\n",
       "      <td>5.8775</td>\n",
       "      <td>177.25</td>\n",
       "      <td>12.25</td>\n",
       "    </tr>\n",
       "  </tbody>\n",
       "</table>\n",
       "</div>"
      ],
      "text/plain": [
       "        height  weight  foot_size\n",
       "gender                           \n",
       "female  5.4175  132.50       7.00\n",
       "male    5.8775  177.25      12.25"
      ]
     },
     "execution_count": 19,
     "metadata": {},
     "output_type": "execute_result"
    }
   ],
   "source": [
    "# now doing group by gender and calculate the mean of each feature\n",
    "data_means = data.groupby(\"gender\").mean()\n",
    "\n",
    "# view the values\n",
    "data_means"
   ]
  },
  {
   "cell_type": "code",
   "execution_count": 20,
   "metadata": {},
   "outputs": [
    {
     "data": {
      "text/html": [
       "<div>\n",
       "<style scoped>\n",
       "    .dataframe tbody tr th:only-of-type {\n",
       "        vertical-align: middle;\n",
       "    }\n",
       "\n",
       "    .dataframe tbody tr th {\n",
       "        vertical-align: top;\n",
       "    }\n",
       "\n",
       "    .dataframe thead th {\n",
       "        text-align: right;\n",
       "    }\n",
       "</style>\n",
       "<table border=\"1\" class=\"dataframe\">\n",
       "  <thead>\n",
       "    <tr style=\"text-align: right;\">\n",
       "      <th></th>\n",
       "      <th>height</th>\n",
       "      <th>weight</th>\n",
       "      <th>foot_size</th>\n",
       "    </tr>\n",
       "    <tr>\n",
       "      <th>gender</th>\n",
       "      <th></th>\n",
       "      <th></th>\n",
       "      <th></th>\n",
       "    </tr>\n",
       "  </thead>\n",
       "  <tbody>\n",
       "    <tr>\n",
       "      <th>female</th>\n",
       "      <td>0.068425</td>\n",
       "      <td>579.666667</td>\n",
       "      <td>3.333333</td>\n",
       "    </tr>\n",
       "    <tr>\n",
       "      <th>male</th>\n",
       "      <td>0.049292</td>\n",
       "      <td>122.916667</td>\n",
       "      <td>0.916667</td>\n",
       "    </tr>\n",
       "  </tbody>\n",
       "</table>\n",
       "</div>"
      ],
      "text/plain": [
       "          height      weight  foot_size\n",
       "gender                                 \n",
       "female  0.068425  579.666667   3.333333\n",
       "male    0.049292  122.916667   0.916667"
      ]
     },
     "execution_count": 20,
     "metadata": {},
     "output_type": "execute_result"
    }
   ],
   "source": [
    "# now doing group by gender and calculate variance of each feature\n",
    "data_variances = data.groupby(\"gender\").var()\n",
    "\n",
    "# view the values\n",
    "data_variances"
   ]
  },
  {
   "cell_type": "code",
   "execution_count": 21,
   "metadata": {},
   "outputs": [
    {
     "data": {
      "text/plain": [
       "5.8774999999999995"
      ]
     },
     "execution_count": 21,
     "metadata": {},
     "output_type": "execute_result"
    }
   ],
   "source": [
    "data_means[\"height\"][data_means.index == \"male\"].values[0]"
   ]
  },
  {
   "cell_type": "code",
   "execution_count": 22,
   "metadata": {
    "tags": []
   },
   "outputs": [
    {
     "name": "stdout",
     "output_type": "stream",
     "text": [
      "So mean male height = 5.8774999999999995, weight = 177.25 and footsize = 12.25\n"
     ]
    }
   ],
   "source": [
    "# mean for the male candidates\n",
    "male_height_mean = data_means[\"height\"][data_means.index == \"male\"].values[0]\n",
    "male_weight_mean = data_means[\"weight\"][data_means.index == \"male\"].values[0]\n",
    "male_footsize_mean = data_means[\"foot_size\"][data_means.index == \"male\"].values[0]\n",
    "\n",
    "print(f\"So mean male height = {male_height_mean}, weight = {male_weight_mean} and footsize = {male_footsize_mean}\")"
   ]
  },
  {
   "cell_type": "code",
   "execution_count": 23,
   "metadata": {},
   "outputs": [
    {
     "name": "stdout",
     "output_type": "stream",
     "text": [
      "So variance male height = 0.049291666666666595, weight = 122.91666666666667 and footsize = 0.9166666666666665\n"
     ]
    }
   ],
   "source": [
    "# variance for the male candidates\n",
    "male_height_var = data_variances[\"height\"][data_variances.index == \"male\"].values[0]\n",
    "male_weight_var = data_variances[\"weight\"][data_variances.index == \"male\"].values[0]\n",
    "male_footsize_var = data_variances[\"foot_size\"][data_variances.index == \"male\"].values[0]\n",
    "\n",
    "print(f\"So variance male height = {male_height_var}, weight = {male_weight_var} and footsize = {male_footsize_var}\")"
   ]
  },
  {
   "cell_type": "code",
   "execution_count": 24,
   "metadata": {},
   "outputs": [
    {
     "name": "stdout",
     "output_type": "stream",
     "text": [
      "So mean female height = 5.4175, weight = 132.5 and footsize = 7.0\n"
     ]
    }
   ],
   "source": [
    "# mean for the female candidates\n",
    "female_height_mean = data_means[\"height\"][data_means.index == \"female\"].values[0]\n",
    "female_weight_mean = data_means[\"weight\"][data_means.index == \"female\"].values[0]\n",
    "female_footsize_mean = data_means[\"foot_size\"][data_means.index == \"female\"].values[0]\n",
    "\n",
    "print(f\"So mean female height = {female_height_mean}, weight = {female_weight_mean} and footsize = {female_footsize_mean}\")"
   ]
  },
  {
   "cell_type": "code",
   "execution_count": 25,
   "metadata": {},
   "outputs": [
    {
     "name": "stdout",
     "output_type": "stream",
     "text": [
      "So variance female height = 0.06842500000000018, weight = 579.6666666666666 and footsize = 3.3333333333333335\n"
     ]
    }
   ],
   "source": [
    "# variance for the female candidates\n",
    "female_height_var = data_variances[\"height\"][data_variances.index == \"female\"].values[0]\n",
    "female_weight_var = data_variances[\"weight\"][data_variances.index == \"female\"].values[0]\n",
    "female_footsize_var = data_variances[\"foot_size\"][data_variances.index == \"female\"].values[0]\n",
    "\n",
    "print(f\"So variance female height = {female_height_var}, weight = {female_weight_var} and footsize = {female_footsize_var}\")"
   ]
  },
  {
   "attachments": {
    "NaiveBayesImage4-2.png": {
     "image/png": "[encoded data removed]"
    }
   },
   "cell_type": "markdown",
   "metadata": {},
   "source": [
    "> ![NaiveBayesImage4-2.png](attachment:NaiveBayesImage4-2.png)\n",
    "> **Finally, we need to create a function to calculate the probability density of each of the terms of the likelihood\n",
    "(e.g. P(height | female))**"
   ]
  },
  {
   "cell_type": "code",
   "execution_count": 26,
   "metadata": {},
   "outputs": [],
   "source": [
    "# writing one user defined function which will calculate p(X|Y)\n",
    "\n",
    "def p_x_given_y (x, mean_y, var_y) :\n",
    "    # inputting the arguments into the probability density function\n",
    "    p = (1 / np.sqrt(2 * np.pi * var_y)) * np.exp(-(x - mean_y) ** 2 / (2 * var_y))\n",
    "    \n",
    "    # returing the value of p\n",
    "    return p"
   ]
  },
  {
   "cell_type": "code",
   "execution_count": 27,
   "metadata": {},
   "outputs": [
    {
     "name": "stdout",
     "output_type": "stream",
     "text": [
      "Numerator part of posterior for male is 1.864197774747369e-18\n"
     ]
    }
   ],
   "source": [
    "# now applying bayes classifier to a new data point\n",
    "# calculating numerator part of the posterior if unclassified \n",
    "# observation is male\n",
    "\n",
    "# numerator of the posterior = P(male) p(height ∣ male) p(weight ∣ male) p(foot size ∣ male)\n",
    "num_posterior_male = p_male * \\\n",
    "                     p_x_given_y(person[\"height\"][0], male_height_mean, male_height_var)* \\\n",
    "                     p_x_given_y(person[\"weight\"][0], male_weight_mean, male_weight_var)* \\\n",
    "                     p_x_given_y(person[\"foot_size\"][0], male_footsize_mean, male_footsize_var)\n",
    "\n",
    "print (f\"Numerator part of posterior for male is {num_posterior_male}\")"
   ]
  },
  {
   "cell_type": "code",
   "execution_count": 28,
   "metadata": {},
   "outputs": [
    {
     "name": "stdout",
     "output_type": "stream",
     "text": [
      "Numerator part of posterior for female is 3.110191185294051e-11\n"
     ]
    }
   ],
   "source": [
    "# calculating numerator part of the posterior if unclassified \n",
    "# observation is female\n",
    "\n",
    "# numerator of the posterior = P(female) p(height ∣ female) p(weight ∣ female) p(foot size ∣ female)\n",
    "num_posterior_female = p_female * \\\n",
    "                       p_x_given_y(person[\"height\"][0], female_height_mean, female_height_var)*\\\n",
    "                       p_x_given_y(person[\"weight\"][0], female_weight_mean, female_weight_var)*\\\n",
    "                       p_x_given_y(person[\"foot_size\"][0], female_footsize_mean, female_footsize_var)\n",
    "\n",
    "print (f\"Numerator part of posterior for female is {num_posterior_female}\")"
   ]
  },
  {
   "cell_type": "code",
   "execution_count": 29,
   "metadata": {},
   "outputs": [
    {
     "name": "stdout",
     "output_type": "stream",
     "text": [
      "Prediction is female...\n"
     ]
    }
   ],
   "source": [
    "# as numerator part of the posterior for female is higher than \n",
    "# the same for male, so we predict that the person is female\n",
    "\n",
    "if (num_posterior_female > num_posterior_male):\n",
    "    print (\"Prediction is female...\")\n",
    "else:\n",
    "    print (\"Prediction is male\")"
   ]
  },
  {
   "cell_type": "code",
   "execution_count": 30,
   "metadata": {},
   "outputs": [
    {
     "data": {
      "text/html": [
       "<div>\n",
       "<style scoped>\n",
       "    .dataframe tbody tr th:only-of-type {\n",
       "        vertical-align: middle;\n",
       "    }\n",
       "\n",
       "    .dataframe tbody tr th {\n",
       "        vertical-align: top;\n",
       "    }\n",
       "\n",
       "    .dataframe thead th {\n",
       "        text-align: right;\n",
       "    }\n",
       "</style>\n",
       "<table border=\"1\" class=\"dataframe\">\n",
       "  <thead>\n",
       "    <tr style=\"text-align: right;\">\n",
       "      <th></th>\n",
       "      <th>gender</th>\n",
       "      <th>height</th>\n",
       "      <th>weight</th>\n",
       "      <th>foot_size</th>\n",
       "    </tr>\n",
       "  </thead>\n",
       "  <tbody>\n",
       "    <tr>\n",
       "      <th>0</th>\n",
       "      <td>male</td>\n",
       "      <td>5.93</td>\n",
       "      <td>191</td>\n",
       "      <td>12</td>\n",
       "    </tr>\n",
       "    <tr>\n",
       "      <th>1</th>\n",
       "      <td>female</td>\n",
       "      <td>5.43</td>\n",
       "      <td>131</td>\n",
       "      <td>6</td>\n",
       "    </tr>\n",
       "    <tr>\n",
       "      <th>2</th>\n",
       "      <td>male</td>\n",
       "      <td>5.57</td>\n",
       "      <td>171</td>\n",
       "      <td>13</td>\n",
       "    </tr>\n",
       "    <tr>\n",
       "      <th>3</th>\n",
       "      <td>female</td>\n",
       "      <td>5.74</td>\n",
       "      <td>149</td>\n",
       "      <td>8</td>\n",
       "    </tr>\n",
       "    <tr>\n",
       "      <th>4</th>\n",
       "      <td>female</td>\n",
       "      <td>5.40</td>\n",
       "      <td>151</td>\n",
       "      <td>9</td>\n",
       "    </tr>\n",
       "    <tr>\n",
       "      <th>5</th>\n",
       "      <td>male</td>\n",
       "      <td>6.10</td>\n",
       "      <td>181</td>\n",
       "      <td>13</td>\n",
       "    </tr>\n",
       "    <tr>\n",
       "      <th>6</th>\n",
       "      <td>female</td>\n",
       "      <td>5.10</td>\n",
       "      <td>99</td>\n",
       "      <td>5</td>\n",
       "    </tr>\n",
       "    <tr>\n",
       "      <th>7</th>\n",
       "      <td>male</td>\n",
       "      <td>5.91</td>\n",
       "      <td>166</td>\n",
       "      <td>11</td>\n",
       "    </tr>\n",
       "  </tbody>\n",
       "</table>\n",
       "</div>"
      ],
      "text/plain": [
       "   gender  height  weight  foot_size\n",
       "0    male    5.93     191         12\n",
       "1  female    5.43     131          6\n",
       "2    male    5.57     171         13\n",
       "3  female    5.74     149          8\n",
       "4  female    5.40     151          9\n",
       "5    male    6.10     181         13\n",
       "6  female    5.10      99          5\n",
       "7    male    5.91     166         11"
      ]
     },
     "execution_count": 30,
     "metadata": {},
     "output_type": "execute_result"
    }
   ],
   "source": [
    "data"
   ]
  },
  {
   "cell_type": "markdown",
   "metadata": {},
   "source": [
    "### Implementing Using  GaussianNB() Class"
   ]
  },
  {
   "cell_type": "code",
   "execution_count": 31,
   "metadata": {},
   "outputs": [
    {
     "name": "stdout",
     "output_type": "stream",
     "text": [
      "0    1\n",
      "1    0\n",
      "2    1\n",
      "3    0\n",
      "4    0\n",
      "5    1\n",
      "6    0\n",
      "7    1\n",
      "Name: gender, dtype: int64\n"
     ]
    },
    {
     "data": {
      "text/html": [
       "<div>\n",
       "<style scoped>\n",
       "    .dataframe tbody tr th:only-of-type {\n",
       "        vertical-align: middle;\n",
       "    }\n",
       "\n",
       "    .dataframe tbody tr th {\n",
       "        vertical-align: top;\n",
       "    }\n",
       "\n",
       "    .dataframe thead th {\n",
       "        text-align: right;\n",
       "    }\n",
       "</style>\n",
       "<table border=\"1\" class=\"dataframe\">\n",
       "  <thead>\n",
       "    <tr style=\"text-align: right;\">\n",
       "      <th></th>\n",
       "      <th>height</th>\n",
       "      <th>weight</th>\n",
       "      <th>foot_size</th>\n",
       "    </tr>\n",
       "  </thead>\n",
       "  <tbody>\n",
       "    <tr>\n",
       "      <th>0</th>\n",
       "      <td>5.93</td>\n",
       "      <td>191</td>\n",
       "      <td>12</td>\n",
       "    </tr>\n",
       "    <tr>\n",
       "      <th>1</th>\n",
       "      <td>5.43</td>\n",
       "      <td>131</td>\n",
       "      <td>6</td>\n",
       "    </tr>\n",
       "    <tr>\n",
       "      <th>2</th>\n",
       "      <td>5.57</td>\n",
       "      <td>171</td>\n",
       "      <td>13</td>\n",
       "    </tr>\n",
       "    <tr>\n",
       "      <th>3</th>\n",
       "      <td>5.74</td>\n",
       "      <td>149</td>\n",
       "      <td>8</td>\n",
       "    </tr>\n",
       "    <tr>\n",
       "      <th>4</th>\n",
       "      <td>5.40</td>\n",
       "      <td>151</td>\n",
       "      <td>9</td>\n",
       "    </tr>\n",
       "    <tr>\n",
       "      <th>5</th>\n",
       "      <td>6.10</td>\n",
       "      <td>181</td>\n",
       "      <td>13</td>\n",
       "    </tr>\n",
       "    <tr>\n",
       "      <th>6</th>\n",
       "      <td>5.10</td>\n",
       "      <td>99</td>\n",
       "      <td>5</td>\n",
       "    </tr>\n",
       "    <tr>\n",
       "      <th>7</th>\n",
       "      <td>5.91</td>\n",
       "      <td>166</td>\n",
       "      <td>11</td>\n",
       "    </tr>\n",
       "  </tbody>\n",
       "</table>\n",
       "</div>"
      ],
      "text/plain": [
       "   height  weight  foot_size\n",
       "0    5.93     191         12\n",
       "1    5.43     131          6\n",
       "2    5.57     171         13\n",
       "3    5.74     149          8\n",
       "4    5.40     151          9\n",
       "5    6.10     181         13\n",
       "6    5.10      99          5\n",
       "7    5.91     166         11"
      ]
     },
     "execution_count": 31,
     "metadata": {},
     "output_type": "execute_result"
    }
   ],
   "source": [
    "from sklearn.naive_bayes import GaussianNB\n",
    "from sklearn.model_selection import train_test_split\n",
    "from sklearn.metrics import accuracy_score\n",
    "\n",
    "# Create a Gaussian Naive Bayes Classifier object\n",
    "gnb = GaussianNB()\n",
    "\n",
    "# Extracting X_train and y_train\n",
    "X_train = data.drop(\"gender\", axis = 1)\n",
    "y_train = data.gender.replace({\"female\":0, \"male\":1})\n",
    "\n",
    "print (y_train)\n",
    "X_train"
   ]
  },
  {
   "cell_type": "code",
   "execution_count": 32,
   "metadata": {},
   "outputs": [
    {
     "name": "stdout",
     "output_type": "stream",
     "text": [
      "So predicted value is [0] that is Female...\n"
     ]
    }
   ],
   "source": [
    "# Train the model using the training set\n",
    "gnb.fit(X_train, y_train)\n",
    "\n",
    "# Make predictions on the testing set\n",
    "X_test = person.copy()\n",
    "y_pred = gnb.predict(X_test)\n",
    "y_pred_str = \"Female\" if (y_pred[0] == 0) else \"Male\"\n",
    "print (f\"So predicted value is {y_pred} that is {y_pred_str}...\")"
   ]
  },
  {
   "cell_type": "code",
   "execution_count": 33,
   "metadata": {},
   "outputs": [
    {
     "name": "stdout",
     "output_type": "stream",
     "text": [
      "[1 0 1 0 0 1 0 1]\n",
      "[1 0 1 0 0 1 0 1]\n",
      "Accuracy %: 100.0\n"
     ]
    }
   ],
   "source": [
    "# Calculate the accuracy of the model\n",
    "y_pred = gnb.predict(X_train)\n",
    "print (np.array(y_train))\n",
    "print (y_pred)\n",
    "accuracy = accuracy_score(y_train, y_pred)\n",
    "\n",
    "# Print the accuracy of the model\n",
    "print(\"Accuracy %:\", accuracy * 100)"
   ]
  },
  {
   "cell_type": "code",
   "execution_count": null,
   "metadata": {},
   "outputs": [],
   "source": []
  },
  {
   "cell_type": "code",
   "execution_count": null,
   "metadata": {},
   "outputs": [],
   "source": []
  },
  {
   "cell_type": "code",
   "execution_count": null,
   "metadata": {},
   "outputs": [],
   "source": []
  },
  {
   "cell_type": "code",
   "execution_count": null,
   "metadata": {},
   "outputs": [],
   "source": []
  }
 ],
 "metadata": {
  "kernelspec": {
   "display_name": "Python 3 (ipykernel)",
   "language": "python",
   "name": "python3"
  },
  "language_info": {
   "codemirror_mode": {
    "name": "ipython",
    "version": 3
   },
   "file_extension": ".py",
   "mimetype": "text/x-python",
   "name": "python",
   "nbconvert_exporter": "python",
   "pygments_lexer": "ipython3",
   "version": "3.10.9"
  }
 },
 "nbformat": 4,
 "nbformat_minor": 4
}
